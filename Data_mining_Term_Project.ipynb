{
 "cells": [
  {
   "cell_type": "markdown",
   "metadata": {
    "colab_type": "text",
    "id": "C35YTeqqT9rF"
   },
   "source": [
    "#Board Game Review Classifier"
   ]
  },
  {
   "cell_type": "markdown",
   "metadata": {
    "colab_type": "text",
    "id": "beUwcJjTUAWb"
   },
   "source": [
    "Muhammad Arham\n",
    "\n",
    "1001686912"
   ]
  },
  {
   "cell_type": "markdown",
   "metadata": {
    "colab_type": "text",
    "id": "4PD5AF1nUC89"
   },
   "source": [
    "Term Project, Data Minig, Spring 2020\n",
    "\n",
    "In this project, we will be working with Board Game reviews dataset, we have acquired from kaggle. In this dataset we have been provided with three files. Our major concern is with the board game review file, which contains user comments and ratings for a game. Our goal is, given the board game review, we have to predict what rating out of 10 it will have.\n",
    "\n",
    "For multi-class text classification Naive Bayes theorem has proved to be the best algorithm out there, but a lesser known fact is that a machine learning model is only as good as the data it has been trained on.\n",
    "\n",
    "We are dealing with a massive dataset with a file size of more than 1GB. Alot of preprocessing and cleaning of data will be required before we can feed the model the data for it to train on. Since this is a textual dataset, we will be making use of regexp and many other libraries throughout this project to keep our focus on the actual problem, of building a good machine learning model.\n",
    "\n",
    "Disclaimer: This notebook is not created on jupyter, but on Google Colab, since i kept running into memory issues in pd.read_csv, even with reading the inputs in chunks. It might take longer for the notebook to run on kaggle."
   ]
  },
  {
   "cell_type": "markdown",
   "metadata": {
    "colab_type": "text",
    "id": "uj7THxPiUcPO"
   },
   "source": [
    "##Imports"
   ]
  },
  {
   "cell_type": "code",
   "execution_count": 1,
   "metadata": {
    "colab": {
     "base_uri": "https://localhost:8080/",
     "height": 146
    },
    "colab_type": "code",
    "id": "5Z1l-ihrUfgC",
    "outputId": "be72579d-fa6f-40d1-eaf7-f7b2a9d4cbfa"
   },
   "outputs": [],
   "source": [
    "import pandas as pd\n",
    "import numpy as np\n",
    "import string\n",
    "import re\n",
    "import nltk\n",
    "\n",
    "from nltk.corpus import stopwords\n",
    "from nltk.tokenize import RegexpTokenizer\n",
    "import matplotlib.pyplot as plt\n",
    "from sklearn.metrics import accuracy_score\n",
    "from nltk.tokenize import word_tokenize\n",
    "from sklearn.model_selection import train_test_split\n",
    "from sklearn.feature_extraction.text import TfidfVectorizer\n",
    "from sklearn import naive_bayes\n",
    "from sklearn import svm\n",
    "from sklearn import metrics\n",
    "import seaborn as sns\n",
    "from sklearn.metrics import confusion_matrix\n",
    "from sklearn.model_selection import GridSearchCV\n",
    "from sklearn.utils import resample\n",
    "from sklearn.ensemble import VotingClassifier\n",
    "import pickle\n",
    "#!pip install Unidecode\n",
    "\n",
    "#nltk.download('punkt')\n",
    "#nltk.download('words')\n",
    "#nltk.download('stopwords')\n",
    "\n",
    "#import unidecode"
   ]
  },
  {
   "cell_type": "markdown",
   "metadata": {
    "colab_type": "text",
    "id": "hiRPgV2YUUyd"
   },
   "source": [
    "##Loading the Dataset\n",
    "\n",
    "For text classification, the comment and rating columns were useful, hence only those were read from the csv file. \n",
    "\n",
    "*This in turn might help with minimizing running time, and in-memory storage of the Dataframe"
   ]
  },
  {
   "cell_type": "code",
   "execution_count": null,
   "metadata": {
    "colab": {},
    "colab_type": "code",
    "id": "Oq0dGqSSVejY"
   },
   "outputs": [],
   "source": [
    "reviews=pd.read_csv('bgg-13m-reviews.csv', usecols = ['comment','rating'],engine='python')"
   ]
  },
  {
   "cell_type": "code",
   "execution_count": null,
   "metadata": {
    "colab": {
     "base_uri": "https://localhost:8080/",
     "height": 206
    },
    "colab_type": "code",
    "id": "f0KsBj2lWJL-",
    "outputId": "0dd50b78-9e95-405a-afc4-2b61e4388518"
   },
   "outputs": [],
   "source": [
    "reviews.head()"
   ]
  },
  {
   "cell_type": "markdown",
   "metadata": {
    "colab_type": "text",
    "id": "VwxoFOPtYWk5"
   },
   "source": [
    "As we can see, our dataset has almost 13M+ rows. We need to pre-process the data to refine our dataset, as much as possible, without influencing the end result."
   ]
  },
  {
   "cell_type": "markdown",
   "metadata": {
    "colab_type": "text",
    "id": "LtsZLnb4YdhD"
   },
   "source": [
    "#Preprocesing the Dataset"
   ]
  },
  {
   "cell_type": "markdown",
   "metadata": {
    "colab_type": "text",
    "id": "0WV-u9vgYgcE"
   },
   "source": [
    "This is one of the key parts of our project, because a model is only as efficent as the Data set it has been trained on."
   ]
  },
  {
   "cell_type": "markdown",
   "metadata": {
    "colab_type": "text",
    "id": "YhxwXxoN5bHW"
   },
   "source": [
    "###Removing Missing rows\n",
    "\n",
    "The Data set has many rows with NaN values, and since for our usage we cannot handle the missing values, we will simply drop them."
   ]
  },
  {
   "cell_type": "code",
   "execution_count": null,
   "metadata": {
    "colab": {},
    "colab_type": "code",
    "id": "bgyknvDV67dz"
   },
   "outputs": [],
   "source": [
    "reviews = reviews.dropna()"
   ]
  },
  {
   "cell_type": "markdown",
   "metadata": {
    "colab_type": "text",
    "id": "3EvMTrU6jQy-"
   },
   "source": [
    "## Cleaning the Data set"
   ]
  },
  {
   "cell_type": "markdown",
   "metadata": {
    "colab_type": "text",
    "id": "x-KoZxw66_YW"
   },
   "source": [
    "###Cleaning Comments:\n",
    "\n",
    "To cleaning our Data set for classification, we need to take care of the following\n",
    "\n",
    "*   HTML tags\n",
    "*   URL tags\n",
    "*   String containing only numbers\n",
    "*   String containing punctuations\n",
    "*   Empty Strings\n",
    "*   Lowercase\n",
    "*   Non-english words\n",
    "*   Stopwords\n",
    "\n",
    "1. HTML Tags and URL tags to websites with reviews are useless and are therefore omitted.\n",
    "\n",
    "2. String containing only numbers, and not words cannot be used for text classification purposes and therefore are removed.\n",
    "\n",
    "3. Strings with punctutaions when tokenized might make token out of punctutations and in cases of contractions such as \"can't\" and \"cant\" would be identified as two separate words.\n",
    "\n",
    "4. Empty Strings can also be counted under missing values and be removed,by making them NaN and dropna().\n",
    "\n",
    "5. Applying lowercase to all text ensures that, words like 'the' and 'The' arent identified separately.\n",
    " \n",
    "6. Comments written in roman english, or in chinese or spanish are noise for a dictionary based in english, hence those words need to removed. So we can convert unicode to ascii using  unidecode, and use nltk corpus\n",
    "\n",
    "7. Stop words are those words in natural language that have a very little meaning, such as \"is\", \"an\", \"the\", etc. They provide little to no unique information that can be used for classification"
   ]
  },
  {
   "cell_type": "code",
   "execution_count": null,
   "metadata": {
    "colab": {},
    "colab_type": "code",
    "id": "emYBBpa5bhjq"
   },
   "outputs": [],
   "source": [
    "def deep_cleaner(comment):\n",
    "  clean_number = re.compile(r'^(\\d|-)?(\\d|,)*\\.?\\d*$')\n",
    "  clean_html = re.compile(r'(@[A-Za-z0-9]+)|([^0-9A-Za-z \\t])|(\\w+:\\/\\/\\S+)')\n",
    "  clean_url = re.compile(r'https?://\\S+\\www\\.\\S+')\n",
    "  clean_punctuation = re.compile(r'[^\\w\\s]+')\n",
    "  comment = clean_number.sub(r'',comment)\n",
    "  comment = clean_html.sub(r'', comment)\n",
    "  comment = clean_url.sub(r'', comment)\n",
    "  comment = clean_punctuation.sub(r'',comment)\n",
    "  comment = unidecode.unidecode(comment)\n",
    "  \n",
    "  return comment\n",
    "\n",
    "\n",
    "reviews[\"comment\"] = reviews[\"comment\"].apply(lambda comment: deep_cleaner(comment))"
   ]
  },
  {
   "cell_type": "code",
   "execution_count": null,
   "metadata": {
    "colab": {},
    "colab_type": "code",
    "id": "poYkXoumBA-0"
   },
   "outputs": [],
   "source": [
    "reviews[\"comment\"].replace('', np.nan, inplace=True)\n",
    "#removing rows with NaN\n",
    "reviews.dropna(inplace =True)"
   ]
  },
  {
   "cell_type": "code",
   "execution_count": null,
   "metadata": {
    "colab": {},
    "colab_type": "code",
    "id": "_1PbbFAGNPW-"
   },
   "outputs": [],
   "source": [
    "words = set(nltk.corpus.words.words())\n",
    "\n",
    "def onlyEnglish(comment):\n",
    "  return \" \".join(w for w in nltk.wordpunct_tokenize(comment) if w.lower() in words or not w.isalpha())\n",
    "\n",
    "reviews[\"comment\"] = reviews[\"comment\"].apply(lambda comment: onlyEnglish(comment))"
   ]
  },
  {
   "cell_type": "code",
   "execution_count": null,
   "metadata": {
    "colab": {},
    "colab_type": "code",
    "id": "8z-Kc5L5fN_D"
   },
   "outputs": [],
   "source": [
    "stop_words = set(stopwords.words('english'))\n",
    "\n",
    "def noStopwords(comment):\n",
    "  return \" \".join(w for w in nltk.wordpunct_tokenize(comment) if w not in stop_words)\n",
    "\n",
    "reviews[\"comment\"] = reviews[\"comment\"].apply(lambda comment: noStopwords(comment))"
   ]
  },
  {
   "cell_type": "markdown",
   "metadata": {
    "colab_type": "text",
    "id": "b2vXw7mIb8HH"
   },
   "source": [
    "### Ratings Column:"
   ]
  },
  {
   "cell_type": "code",
   "execution_count": null,
   "metadata": {
    "colab": {
     "base_uri": "https://localhost:8080/",
     "height": 237
    },
    "colab_type": "code",
    "id": "d6ZM9HICcWsZ",
    "outputId": "6077d395-7286-42c7-c455-8d84d2387d6f"
   },
   "outputs": [],
   "source": [
    "reviews['rating'].value_counts()"
   ]
  },
  {
   "cell_type": "markdown",
   "metadata": {
    "colab_type": "text",
    "id": "XVdjciAmcsqF"
   },
   "source": [
    "As we can see, the rating column has float values, and they also have very low frequencies, which will complicate our problem by increasing the number of classes to more than 10. \n",
    "\n",
    "To tackle this problem we can simply cast the whole column as an int type, and discretize them"
   ]
  },
  {
   "cell_type": "code",
   "execution_count": null,
   "metadata": {
    "colab": {
     "base_uri": "https://localhost:8080/",
     "height": 282
    },
    "colab_type": "code",
    "id": "reDGq8F0c6t8",
    "outputId": "f91feea2-ca35-4e9c-ffc2-46aeccfc039d"
   },
   "outputs": [],
   "source": [
    "reviews['rating'] = reviews['rating'].astype(np.int64)\n",
    "\n",
    "reviews['rating'].value_counts(sort=False).plot(kind = 'bar')\n",
    "plt.ylabel('Frequency')\n",
    "plt.xlabel('Rating')\n",
    "plt.show()"
   ]
  },
  {
   "cell_type": "markdown",
   "metadata": {
    "colab_type": "text",
    "id": "2Op-3frmdJkQ"
   },
   "source": [
    "We can see, the data is imbalanced, and certain classes have higher frequency compareed to the others.\n",
    "\n",
    "*Optionally, we can also remove the rating 0, since the frequency of that class, compared to others is miniscule"
   ]
  },
  {
   "cell_type": "code",
   "execution_count": null,
   "metadata": {
    "colab": {
     "base_uri": "https://localhost:8080/",
     "height": 298
    },
    "colab_type": "code",
    "id": "i-hMCVlUdXhk",
    "outputId": "ac02ddf7-f843-431d-f6f9-003cb27d4abe"
   },
   "outputs": [],
   "source": [
    "reviews = reviews[reviews['rating'] >= 1]\n",
    "\n",
    "reviews['rating'].value_counts(sort=False).plot(kind = 'bar')\n",
    "plt.ylabel('Frequency')\n",
    "plt.xlabel('Rating')\n",
    "plt.title('After removal of zero')\n",
    "plt.show()"
   ]
  },
  {
   "cell_type": "markdown",
   "metadata": {
    "colab_type": "text",
    "id": "IUtIv2GRgbQY"
   },
   "source": [
    "### Final Data Set"
   ]
  },
  {
   "cell_type": "code",
   "execution_count": null,
   "metadata": {
    "colab": {
     "base_uri": "https://localhost:8080/",
     "height": 206
    },
    "colab_type": "code",
    "id": "dwDKiJsjggVV",
    "outputId": "190dc408-a54c-4b31-c92f-0a4a83e7b3ef"
   },
   "outputs": [],
   "source": [
    "reviews = reviews.reset_index(drop=True)\n",
    "reviews.head()"
   ]
  },
  {
   "cell_type": "markdown",
   "metadata": {
    "colab_type": "text",
    "id": "Dt8m0zgMjJ15"
   },
   "source": [
    "###Sampling the Data set\n",
    "\n",
    "Since the Data set is absolutely massive, we can take a random sample using pandas's sample function. This will make this project more manageable, and will be able to run on smaller machines.\n",
    "\n",
    "Ive selected size of N as 100,000. This will sample N rows from the original dataset, at random"
   ]
  },
  {
   "cell_type": "code",
   "execution_count": null,
   "metadata": {
    "colab": {},
    "colab_type": "code",
    "id": "zQb_xGWajiE4"
   },
   "outputs": [],
   "source": [
    "sample = reviews.sample(n=100000)\n",
    "sample = sample.reset_index(drop=True)"
   ]
  },
  {
   "cell_type": "code",
   "execution_count": null,
   "metadata": {
    "colab": {
     "base_uri": "https://localhost:8080/",
     "height": 298
    },
    "colab_type": "code",
    "id": "lBCs_JaNjxVc",
    "outputId": "68a538bf-5c92-4cc5-c2fb-6f2ccb66cc77"
   },
   "outputs": [],
   "source": [
    "sample['rating'].value_counts(sort=False).plot(kind = 'bar')\n",
    "plt.ylabel('Frequency')\n",
    "plt.xlabel('Rating')\n",
    "plt.title('Sample of 100K')\n",
    "plt.show()"
   ]
  },
  {
   "cell_type": "markdown",
   "metadata": {
    "colab_type": "text",
    "id": "LAvsVY8jj5lA"
   },
   "source": [
    "The bar graph for the original Data set and the sample looks similar, indicating the sample is somewhat an accurate representation of the original Data set "
   ]
  },
  {
   "cell_type": "markdown",
   "metadata": {
    "colab_type": "text",
    "id": "RcIEGT5_kVi1"
   },
   "source": [
    "###Prepare Train and Test Data sets\n",
    "\n",
    "We need to split our Data set into train and test splits to later assess its performance."
   ]
  },
  {
   "cell_type": "code",
   "execution_count": null,
   "metadata": {
    "colab": {},
    "colab_type": "code",
    "id": "0jU-3rksj_z4"
   },
   "outputs": [],
   "source": [
    "X_train, X_test, y_train, y_test = train_test_split(sample['comment'], sample['rating'], test_size=0.2,random_state=np.random)"
   ]
  },
  {
   "cell_type": "markdown",
   "metadata": {
    "colab_type": "text",
    "id": "h1t_vSP4nlL-"
   },
   "source": [
    "###Vectorization\n",
    "\n",
    "We now convert our sample['comments'] into numerical feature vectors. The method of our choice is TF-IDF, which is Term Frequency-Inverse Document Frequency."
   ]
  },
  {
   "cell_type": "code",
   "execution_count": null,
   "metadata": {
    "colab": {},
    "colab_type": "code",
    "id": "6mKo0XUvonL1"
   },
   "outputs": [],
   "source": [
    "vectorizer = TfidfVectorizer(\n",
    "    ngram_range=(1, 2), \n",
    "    encoding='latin-1',\n",
    "    max_features = 500000\n",
    ")\n",
    "\n",
    "vectorizer.fit(X_train)\n",
    "X_train_vec = vectorizer.transform(X_train)\n",
    "X_test_vec = vectorizer.transform(X_test)"
   ]
  },
  {
   "cell_type": "markdown",
   "metadata": {
    "colab_type": "text",
    "id": "V3XrFbT1pUPQ"
   },
   "source": [
    "##Classifiers"
   ]
  },
  {
   "cell_type": "markdown",
   "metadata": {
    "colab_type": "text",
    "id": "ctLwilU-pZFH"
   },
   "source": [
    "###Naive Bayes Classifier\n",
    "\n",
    "It is a classification technique based on Bayes’ Theorem with an assumption of independence among predictors. In simple terms, a Naive Bayes classifier assumes that the presence of a particular feature in a class is unrelated to the presence of any other feature.\n",
    "\n",
    "Our goal is multi-class text classification. A well known algorithm for text classification is Naive Bayes, which takes vector inputs from TF-IDF and predicts its class."
   ]
  },
  {
   "cell_type": "code",
   "execution_count": null,
   "metadata": {
    "colab": {
     "base_uri": "https://localhost:8080/",
     "height": 35
    },
    "colab_type": "code",
    "id": "cXm8GrsSpb9V",
    "outputId": "bfbd245c-101a-45b1-c61d-3c2d279b3f55"
   },
   "outputs": [],
   "source": [
    "NB = naive_bayes.MultinomialNB()\n",
    "NB.fit(X_train_vec,y_train)\n",
    "\n",
    "predictions_NB = NB.predict(X_test_vec)\n",
    "\n",
    "\n",
    "\n",
    "# Model Accuracy, how often is the classifier correct?\n",
    "print(\"Accuracy:\",metrics.accuracy_score(predictions_NB,y_test )*100)"
   ]
  },
  {
   "cell_type": "code",
   "execution_count": null,
   "metadata": {
    "colab": {
     "base_uri": "https://localhost:8080/",
     "height": 606
    },
    "colab_type": "code",
    "id": "3SIiNaH1p8mx",
    "outputId": "4fac9f0a-580b-4a2d-857f-0de69e638ff4"
   },
   "outputs": [],
   "source": [
    "conf_matrix_NB = confusion_matrix(y_test, predictions_NB)\n",
    "fig, ax = plt.subplots(figsize=(10,10)) \n",
    "sns.heatmap(conf_matrix_NB.T, square=True, annot=True, fmt='d', cbar=False)\n",
    "plt.xlabel('Original')\n",
    "plt.ylabel('Predicted');"
   ]
  },
  {
   "cell_type": "markdown",
   "metadata": {
    "colab_type": "text",
    "id": "UKKa_rvaqQJE"
   },
   "source": [
    "In the heatmap, we can visualize that most of our results overfit to classes around 7, since the data we provided was imbalanced, and that class 7 had the highest frequency followed by 6 & 8\n",
    "\n",
    "Unlike our initial hypothesis, Naive bayes isnt performing as expected.\n"
   ]
  },
  {
   "cell_type": "markdown",
   "metadata": {
    "colab_type": "text",
    "id": "1B_D-AnRljAi"
   },
   "source": [
    "###Hyper Parameter Tuning\n",
    "\n",
    "We need to find the optimal value of alpha for our Data set.\n",
    "We will use gridsearch for this purpose"
   ]
  },
  {
   "cell_type": "code",
   "execution_count": null,
   "metadata": {
    "colab": {
     "base_uri": "https://localhost:8080/",
     "height": 257
    },
    "colab_type": "code",
    "id": "-tH6OhoFmFYW",
    "outputId": "0510f585-6f00-401a-e232-6734f31880fb"
   },
   "outputs": [],
   "source": [
    "alphas = np.array([1,0.1,0.01,0.001,0.0001,0])\n",
    "model_NB = naive_bayes.MultinomialNB()\n",
    "grid = GridSearchCV(cv= 5, estimator=model_NB, param_grid=dict(alpha=alphas))\n",
    "grid.fit(X_train_vec, y_train)\n",
    "#print(grid)\n",
    "# summarize the results of the grid search\n",
    "print(grid.best_score_)\n",
    "print(grid.best_estimator_.alpha)"
   ]
  },
  {
   "cell_type": "markdown",
   "metadata": {
    "colab_type": "text",
    "id": "L8R7cWJHm3kf"
   },
   "source": [
    "Best estimate of alpha, according to our grid search, that used 5 fold cross validation was: 0.1\n"
   ]
  },
  {
   "cell_type": "markdown",
   "metadata": {
    "colab_type": "text",
    "id": "dec_Q6IjqTHQ"
   },
   "source": [
    "##Linear SVM\n",
    "\n",
    "In the SVM algorithm, we plot each data item as a point in n-dimensional space (where n is number of features you have) with the value of each feature being the value of a particular coordinate. Then, we perform classification by finding the hyper-plane that differentiates the two classes very well "
   ]
  },
  {
   "cell_type": "code",
   "execution_count": null,
   "metadata": {
    "colab": {
     "base_uri": "https://localhost:8080/",
     "height": 35
    },
    "colab_type": "code",
    "id": "NaRUY1zMqZEH",
    "outputId": "0b72e267-de1a-49b9-abd2-988e73fd892c"
   },
   "outputs": [],
   "source": [
    "Linear_SVC = svm.LinearSVC()\n",
    "Linear_SVC.fit(X_train_vec,y_train)\n",
    "\n",
    "predictions_SVM = Linear_SVC.predict(X_test_vec)\n",
    "\n",
    "\n",
    "print(\"SVM Accuracy Score -> \",metrics.accuracy_score(predictions_SVM, y_test)*100)"
   ]
  },
  {
   "cell_type": "code",
   "execution_count": null,
   "metadata": {
    "colab": {
     "base_uri": "https://localhost:8080/",
     "height": 606
    },
    "colab_type": "code",
    "id": "I-i4WYA2qnRR",
    "outputId": "69392ab8-33d2-4669-c088-da114db36b37"
   },
   "outputs": [],
   "source": [
    "conf_matrix_SVM= confusion_matrix(y_test, predictions_SVM)\n",
    "fig, ax = plt.subplots(figsize=(10,10)) \n",
    "sns.heatmap(conf_matrix_SVM.T, square=True, annot=True, fmt='d', cbar=False)\n",
    "plt.xlabel('Original')\n",
    "plt.ylabel('Predicted');"
   ]
  },
  {
   "cell_type": "markdown",
   "metadata": {
    "colab_type": "text",
    "id": "edjlEhdtrDwj"
   },
   "source": [
    "###Hyper Parameter Tuning\n",
    "\n",
    "We need to find optimal values of C\n",
    "\n",
    "1. C is the penalty parameter which represents our missclassification, and tells us how much error is bearable. This is how we can control the trade-off between decision boundary and misclassification term.\n",
    "\n",
    "*This was taking a considerable amount of time. \n",
    "We have used C = 1, for our purposes"
   ]
  },
  {
   "cell_type": "code",
   "execution_count": null,
   "metadata": {
    "colab": {},
    "colab_type": "code",
    "id": "_FUp5XcEr0CH"
   },
   "outputs": [],
   "source": [
    "#from sklearn.svm import SVC  \n",
    "#params = {'C': [0.1,1, 10, 100]}\n",
    "#model_SVM = svm.LinearSVC()\n",
    "#grid = GridSearchCV(estimator = model_SVM, param_grid=params, cv= 5 )\n",
    "#grid.fit(X_train_vec, y_train)\n",
    "#print(grid)\n",
    "# summarize the results of the grid search\n",
    "#print(grid.best_score_)\n",
    "#print(grid.best_estimator_)"
   ]
  },
  {
   "cell_type": "markdown",
   "metadata": {
    "colab_type": "text",
    "id": "PjNol_cfyMYr"
   },
   "source": [
    "## Handling Imbalanced Classes\n",
    "\n",
    "As we can see from the results of Naive Bayes, the classifier's predictions for lower ratings are poor. Imbalanced Data set can be attributed for this result, as their were lesser number of comments with lower ratings.\n",
    "\n",
    "We can perform undersampling on this data, as we have a huge Data set to overcome this problem of imbalanced Data set, and try using the classifiers on that data."
   ]
  },
  {
   "cell_type": "code",
   "execution_count": null,
   "metadata": {
    "colab": {
     "base_uri": "https://localhost:8080/",
     "height": 219
    },
    "colab_type": "code",
    "id": "BFrd9SqU0Fep",
    "outputId": "9c455115-4e98-443c-d04f-3debe8757477"
   },
   "outputs": [],
   "source": [
    "reviews['rating'].value_counts()"
   ]
  },
  {
   "cell_type": "markdown",
   "metadata": {
    "colab_type": "text",
    "id": "c6FFYJs54hlE"
   },
   "source": [
    "*We can have approximately 10,000 samples from each class, with undersampling, as the class with lowest count '1' has 20K+ records.\n",
    "This will result in a Data set of 100K+ records"
   ]
  },
  {
   "cell_type": "code",
   "execution_count": null,
   "metadata": {
    "colab": {
     "base_uri": "https://localhost:8080/",
     "height": 35
    },
    "colab_type": "code",
    "id": "P_bmduZO4yAR",
    "outputId": "728239e9-7085-4413-cf8c-24922694cd45"
   },
   "outputs": [],
   "source": [
    "reviews_1 = reviews[reviews['rating'] == 1]\n",
    "reviews_2 = reviews[reviews['rating'] == 2]\n",
    "reviews_3 = reviews[reviews['rating'] == 3]\n",
    "reviews_4 = reviews[reviews['rating'] == 4]\n",
    "reviews_5 = reviews[reviews['rating'] == 5]\n",
    "reviews_6 = reviews[reviews['rating'] == 6]\n",
    "reviews_7 = reviews[reviews['rating'] == 7]\n",
    "reviews_8 = reviews[reviews['rating'] == 8]\n",
    "reviews_9 = reviews[reviews['rating'] == 9]\n",
    "reviews_10 = reviews[reviews['rating'] == 10]\n",
    "\n",
    "review_1_downsampled = resample(reviews_1, \n",
    "                                 replace=False,    # sample without replacement\n",
    "                                 n_samples=10000,     # to match minority class\n",
    "                                 random_state=np.random) # reproducible result\n",
    "review_2_downsampled = resample(reviews_2, \n",
    "                                 replace=False,    # sample without replacement\n",
    "                                 n_samples=10000,     # to match minority class\n",
    "                                 random_state=np.random) # reproducible results\n",
    "review_3_downsampled = resample(reviews_3, \n",
    "                                 replace=False,    # sample without replacement\n",
    "                                 n_samples=10000,     # to match minority class\n",
    "                                 random_state=np.random) # reproducible results\n",
    "review_4_downsampled = resample(reviews_4, \n",
    "                                 replace=False,    # sample without replacement\n",
    "                                 n_samples=10000,     # to match minority class\n",
    "                                 random_state=np.random) # reproducible results\n",
    "review_5_downsampled = resample(reviews_5, \n",
    "                                 replace=False,    # sample without replacement\n",
    "                                 n_samples=10000,     # to match minority class\n",
    "                                 random_state=np.random) # reproducible results\n",
    "review_6_downsampled = resample(reviews_6, \n",
    "                                 replace=False,    # sample without replacement\n",
    "                                 n_samples=10000,     # to match minority class\n",
    "                                 random_state=np.random) # reproducible results\n",
    "review_7_downsampled = resample(reviews_7, \n",
    "                                 replace=False,    # sample without replacement\n",
    "                                 n_samples=10000,     # to match minority class\n",
    "                                 random_state=np.random) # reproducible results\n",
    "review_8_downsampled = resample(reviews_8, \n",
    "                                 replace=False,    # sample without replacement\n",
    "                                 n_samples=10000,     # to match minority class\n",
    "                                 random_state=np.random) # reproducible results\n",
    "review_9_downsampled = resample(reviews_9, \n",
    "                                 replace=False,    # sample without replacement\n",
    "                                 n_samples=10000,     # to match minority class\n",
    "                                 random_state=np.random) # reproducible results\n",
    "review_10_downsampled = resample(reviews_10, \n",
    "                                 replace=False,    # sample without replacement\n",
    "                                 n_samples=10000,     # to match minority class\n",
    "                                 random_state=np.random) # reproducible results\n",
    "\n",
    "reviews_downsampled = pd.concat([review_1_downsampled,review_2_downsampled,review_3_downsampled,review_4_downsampled,review_5_downsampled,review_6_downsampled,review_7_downsampled,review_8_downsampled,review_9_downsampled,review_10_downsampled])\n",
    "reviews_downsampled.shape"
   ]
  },
  {
   "cell_type": "code",
   "execution_count": null,
   "metadata": {
    "colab": {
     "base_uri": "https://localhost:8080/",
     "height": 298
    },
    "colab_type": "code",
    "id": "8vofHqOS9rg-",
    "outputId": "3a5e1444-5d72-4607-ff5c-82211f88f9f3"
   },
   "outputs": [],
   "source": [
    "reviews_downsampled['rating'].value_counts(sort=False).plot(kind = 'bar')\n",
    "plt.ylabel('Frequency')\n",
    "plt.xlabel('Rating')\n",
    "plt.title('Undersampled Data Set with Balanced Classes')\n",
    "plt.show()"
   ]
  },
  {
   "cell_type": "markdown",
   "metadata": {
    "colab_type": "text",
    "id": "w2FZaJAvAPrG"
   },
   "source": [
    "### Balanced Test & Train Data sets"
   ]
  },
  {
   "cell_type": "code",
   "execution_count": null,
   "metadata": {
    "colab": {},
    "colab_type": "code",
    "id": "SJZclHYQAWiE"
   },
   "outputs": [],
   "source": [
    "X_train_bal, X_test_bal, y_train_bal, y_test_bal = train_test_split(reviews_downsampled['comment'], reviews_downsampled['rating'], test_size=0.2,random_state=np.random)"
   ]
  },
  {
   "cell_type": "markdown",
   "metadata": {
    "colab_type": "text",
    "id": "-fvhsIcdBM1x"
   },
   "source": [
    "### Vectorization"
   ]
  },
  {
   "cell_type": "code",
   "execution_count": null,
   "metadata": {
    "colab": {},
    "colab_type": "code",
    "id": "O-yYROhNBPHL"
   },
   "outputs": [],
   "source": [
    "vectorizer.fit(X_train_bal)\n",
    "X_train_bal_vec = vectorizer.transform(X_train_bal)\n",
    "X_test_bal_vec = vectorizer.transform(X_test_bal)"
   ]
  },
  {
   "cell_type": "markdown",
   "metadata": {
    "colab_type": "text",
    "id": "oZ3KfsiH_pW9"
   },
   "source": [
    "### Naive Bayes on Balanced Data Set"
   ]
  },
  {
   "cell_type": "code",
   "execution_count": null,
   "metadata": {
    "colab": {
     "base_uri": "https://localhost:8080/",
     "height": 35
    },
    "colab_type": "code",
    "id": "9BjDq2b2_xtj",
    "outputId": "facfd622-6ed2-45af-9cca-06fadc31fdce"
   },
   "outputs": [],
   "source": [
    "NB_Bal = naive_bayes.MultinomialNB()\n",
    "NB_Bal.fit(X_train_bal_vec,y_train_bal)\n",
    "\n",
    "predictions_NB_Bal = NB_Bal.predict(X_test_bal_vec)\n",
    "\n",
    "\n",
    "\n",
    "# Model Accuracy, how often is the classifier correct?\n",
    "print(\"Accuracy:\",metrics.accuracy_score(predictions_NB_Bal,y_test_bal )*100)"
   ]
  },
  {
   "cell_type": "code",
   "execution_count": null,
   "metadata": {
    "colab": {
     "base_uri": "https://localhost:8080/",
     "height": 606
    },
    "colab_type": "code",
    "id": "yEnoFZBoACeS",
    "outputId": "23012405-502c-4714-ee6c-f4b9beb9bc7b"
   },
   "outputs": [],
   "source": [
    "conf_matrix_NB_Bal = confusion_matrix(y_test_bal, predictions_NB_Bal)\n",
    "fig, ax = plt.subplots(figsize=(10,10)) \n",
    "sns.heatmap(conf_matrix_NB_Bal.T, square=True, annot=True, fmt='d', cbar=False)\n",
    "plt.xlabel('Original')\n",
    "plt.ylabel('Predicted');"
   ]
  },
  {
   "cell_type": "markdown",
   "metadata": {
    "colab_type": "text",
    "id": "2FWFwpz_C0id"
   },
   "source": [
    "*Here we can see, our classifier has dropped in accuracy, but is now able to classify lower ratings too"
   ]
  },
  {
   "cell_type": "markdown",
   "metadata": {
    "colab_type": "text",
    "id": "C5PT_H1jCMkB"
   },
   "source": [
    "### Hyper Parameter Tuning"
   ]
  },
  {
   "cell_type": "code",
   "execution_count": null,
   "metadata": {
    "colab": {
     "base_uri": "https://localhost:8080/",
     "height": 257
    },
    "colab_type": "code",
    "id": "mnP6AHwOCVzG",
    "outputId": "b69c1cb9-2d5a-4b6e-c4ef-56ac99823a18"
   },
   "outputs": [],
   "source": [
    "alphas = np.array([1,0.1,0.01,0.001,0.0001,0])\n",
    "model_NB_Bal = naive_bayes.MultinomialNB()\n",
    "grid = GridSearchCV(cv= 5, estimator=model_NB_Bal, param_grid=dict(alpha=alphas))\n",
    "grid.fit(X_train_bal_vec, y_train_bal)\n",
    "#print(grid)\n",
    "# summarize the results of the grid search\n",
    "print(grid.best_score_)\n",
    "print(grid.best_estimator_.alpha)"
   ]
  },
  {
   "cell_type": "code",
   "execution_count": null,
   "metadata": {
    "colab": {
     "base_uri": "https://localhost:8080/",
     "height": 35
    },
    "colab_type": "code",
    "id": "qoM-Bud_M-uy",
    "outputId": "e12b6887-92b2-45d1-9205-e0f0ec33c0d4"
   },
   "outputs": [],
   "source": [
    "X_test_vec.shape, X_test_bal_vec.shape"
   ]
  },
  {
   "cell_type": "markdown",
   "metadata": {
    "colab_type": "text",
    "id": "R4tPwgSUDkVF"
   },
   "source": [
    "Now that our Naive Bayes classifier can classify lower ratings, lets look at how it performs on the original unbalanced Data set"
   ]
  },
  {
   "cell_type": "code",
   "execution_count": null,
   "metadata": {
    "colab": {
     "base_uri": "https://localhost:8080/",
     "height": 624
    },
    "colab_type": "code",
    "id": "mZ-gWGVbDssz",
    "outputId": "69f403db-4b5d-4433-d74c-1f0bfb8b25b2"
   },
   "outputs": [],
   "source": [
    "predictions_NB_Bal_2 = NB_Bal.predict(X_test_vec)\n",
    "\n",
    "# Model Accuracy, how often is the classifier correct?\n",
    "print(\"Accuracy:\",metrics.accuracy_score(predictions_NB_Bal_2,y_test )*100)\n",
    "\n",
    "conf_matrix_NB_Bal_2 = confusion_matrix(y_test, predictions_NB_Bal_2)\n",
    "fig, ax = plt.subplots(figsize=(10,10)) \n",
    "sns.heatmap(conf_matrix_NB_Bal.T, square=True, annot=True, fmt='d', cbar=False)\n",
    "plt.xlabel('Original')\n",
    "plt.ylabel('Predicted');"
   ]
  },
  {
   "cell_type": "markdown",
   "metadata": {
    "colab_type": "text",
    "id": "zQ1sx32PFaLE"
   },
   "source": [
    "Looks like our balanced Naive bayes performed poorly on the unbalanced Dataset, but was able to capture the lower ratings on the Data set"
   ]
  },
  {
   "cell_type": "markdown",
   "metadata": {
    "colab_type": "text",
    "id": "wMdPB3LtDBBd"
   },
   "source": [
    "###Linear SVM on Balanced Data set"
   ]
  },
  {
   "cell_type": "code",
   "execution_count": null,
   "metadata": {
    "colab": {
     "base_uri": "https://localhost:8080/",
     "height": 35
    },
    "colab_type": "code",
    "id": "hh7aSej0DF4u",
    "outputId": "de1e338c-693c-4244-ba3b-898782a11d12"
   },
   "outputs": [],
   "source": [
    "Linear_SVC_Bal = svm.LinearSVC()\n",
    "Linear_SVC_Bal.fit(X_train_bal_vec,y_train_bal)\n",
    "\n",
    "predictions_SVM_bal = Linear_SVC_Bal.predict(X_test_bal_vec)\n",
    "\n",
    "\n",
    "print(\"SVM Accuracy Score -> \",metrics.accuracy_score(predictions_SVM_bal, y_test_bal)*100)"
   ]
  },
  {
   "cell_type": "code",
   "execution_count": null,
   "metadata": {
    "colab": {
     "base_uri": "https://localhost:8080/",
     "height": 606
    },
    "colab_type": "code",
    "id": "h1qM_kDPFraZ",
    "outputId": "6e353b0c-5ae4-4663-a489-ec5f5354820b"
   },
   "outputs": [],
   "source": [
    "conf_matrix_SVM_bal= confusion_matrix(y_test_bal, predictions_SVM_bal)\n",
    "fig, ax = plt.subplots(figsize=(10,10)) \n",
    "sns.heatmap(conf_matrix_SVM_bal.T, square=True, annot=True, fmt='d', cbar=False)\n",
    "plt.xlabel('Original')\n",
    "plt.ylabel('Predicted');"
   ]
  },
  {
   "cell_type": "markdown",
   "metadata": {
    "colab_type": "text",
    "id": "jaAyDcN-F82Y"
   },
   "source": [
    "Now that our Linear SVC classifier can classify lower ratings, lets look at how it performs on the original unbalanced Data set"
   ]
  },
  {
   "cell_type": "code",
   "execution_count": null,
   "metadata": {
    "colab": {
     "base_uri": "https://localhost:8080/",
     "height": 624
    },
    "colab_type": "code",
    "id": "UhFkRplUF_0L",
    "outputId": "08246619-460f-4ae3-c081-ec2991270571"
   },
   "outputs": [],
   "source": [
    "predictions_SVM_Bal_2 = Linear_SVC_Bal.predict(X_test_vec)\n",
    "\n",
    "\n",
    "print(\"SVM Accuracy Score -> \",metrics.accuracy_score(predictions_SVM_bal_2, y_test)*100)\n",
    "\n",
    "conf_matrix_SVM_Bal_2 = confusion_matrix(y_test, predictions_SVM_Bal_2)\n",
    "fig, ax = plt.subplots(figsize=(10,10)) \n",
    "sns.heatmap(conf_matrix_SVM_Bal_2.T, square=True, annot=True, fmt='d', cbar=False)\n",
    "plt.xlabel('Original')\n",
    "plt.ylabel('Predicted');"
   ]
  },
  {
   "cell_type": "markdown",
   "metadata": {
    "colab_type": "text",
    "id": "vJQLR5ioRvnw"
   },
   "source": [
    "Looks like our balanced Linear SVM performed poorly on the unbalanced Dataset, but was able to capture the lower ratings on the Data set. Accuracy dropped more than 50%"
   ]
  },
  {
   "cell_type": "markdown",
   "metadata": {
    "colab_type": "text",
    "id": "caAOGc71TweY"
   },
   "source": [
    "## Ensemble Classifiers\n",
    "\n",
    "Considering the performances of Naive Bayes and Linear SVM on our balanced and unbalanced Data set, we will now try and build a classifier, based on Balanced and Unbalanced Linear SVM"
   ]
  },
  {
   "cell_type": "code",
   "execution_count": null,
   "metadata": {
    "colab": {
     "base_uri": "https://localhost:8080/",
     "height": 624
    },
    "colab_type": "code",
    "id": "QQ8O9Lg3UZ1F",
    "outputId": "963bb2f2-a063-42f1-ac4b-eb8b02a3bafe"
   },
   "outputs": [],
   "source": [
    "estimators=[('SVC_Bal', Linear_SVC_Bal), ('SVC', Linear_SVC)]\n",
    "\n",
    "ensemble = VotingClassifier(estimators, voting='hard')\n",
    "\n",
    "#fit model to training data\n",
    "ensemble.fit(X_train_vec, y_train)\n",
    "\n",
    "predictions_Ensemble = ensemble.predict(X_test_vec)\n",
    "\n",
    "#test our model on the test data\n",
    "print(\"Ensemble SVM Accuracy Score -> \",ensemble.score(X_test_vec, y_test)*100)\n",
    "\n",
    "conf_matrix_Ensemble = confusion_matrix(y_test, predictions_Ensemble)\n",
    "fig, ax = plt.subplots(figsize=(10,10)) \n",
    "sns.heatmap(conf_matrix_Ensemble.T, square=True, annot=True, fmt='d', cbar=False)\n",
    "plt.xlabel('Original')\n",
    "plt.ylabel('Predicted');"
   ]
  },
  {
   "cell_type": "markdown",
   "metadata": {
    "colab_type": "text",
    "id": "5tMK-xeGbiT3"
   },
   "source": [
    "The ensemble voting classifer with hard voting shows an accuracy of 27% approximately\n",
    "\n",
    "### Relaxation of Accuracy Measure\n",
    "\n",
    "Uptill now, only count a rating to be a correct prediction, if its equal to the original rating. \n",
    "If we relax this measure of accuracy, by +/-1 point, we might see an increment in accuracy.\n",
    "\n",
    "The sentiment of a rating from a 7 to an 8 isnot that drastic, that it might change the meaning behind the rating."
   ]
  },
  {
   "cell_type": "code",
   "execution_count": null,
   "metadata": {
    "colab": {},
    "colab_type": "code",
    "id": "dQygW6ycgV8f"
   },
   "outputs": [],
   "source": [
    "def relaxedAccuracy(pred,target):\n",
    "  correct = 0\n",
    "  for i in range(len(target)):\n",
    "    if (target[i]==pred[i] or target[i]==(pred[i]+1) or target[i]==(pred[i]-1)):\n",
    "      correct+=1\n",
    "\n",
    "  return (correct/len(target))*100"
   ]
  },
  {
   "cell_type": "code",
   "execution_count": null,
   "metadata": {
    "colab": {
     "base_uri": "https://localhost:8080/",
     "height": 72
    },
    "colab_type": "code",
    "id": "B9f54EIchROk",
    "outputId": "90252166-797c-4b91-ad90-18f9ea6265c2"
   },
   "outputs": [],
   "source": [
    "accuracy = relaxedAccuracy(predictions_Ensemble,y_test.values)\n",
    "print(\"Relaxes Ensemble SVC accuracy ->\",accuracy)\n",
    "accuracy = relaxedAccuracy(predictions_NB,y_test.values)\n",
    "print(\"Relaxed NB accuracy ->\",accuracy)\n",
    "accuracy = relaxedAccuracy(predictions_SVM,y_test.values)\n",
    "print(\"Relaxed SVM accuracy ->\",accuracy)"
   ]
  },
  {
   "cell_type": "markdown",
   "metadata": {
    "colab_type": "text",
    "id": "W3IW_ZfHlWte"
   },
   "source": [
    "After applying the relaxation function, our correct predictions more than doubled.\n",
    "\n",
    "This proves that our relaxed accuracy idea was a success."
   ]
  },
  {
   "cell_type": "markdown",
   "metadata": {
    "colab_type": "text",
    "id": "T-Pbq3-Jmf6g"
   },
   "source": [
    "##Challenges:\n",
    "\n",
    "\n",
    "\n",
    "1.   The sheer volume of Data set, was a major hurdle. Reading the dataset on my personal computer wasnt even possible. I had to use google colab to complete all of this work. Even then i had to sample the data, instead of using the whole data as the time it would take to proces the data was insanely long\n",
    "2.   Preprocessing the data was also cumbersome, since this was a text classification problem, it was critical the data was as clean as possible. With the help of regex and python's apply function, the data was cleaned, but tasks such as lemmatizing and stemming were too tedious to perform\n",
    "3.   The imbalanced dataset was a problem on its own, and training pretrained classifiers on it dropped accuracies to single digits. I was able to undersample a dataset of relatively large size and use ensemble method to get a ensemble classifier which performed perfectly\n",
    "4.   The low accuracy score of the coveted Naive Bayes algorithm was a shock, which opened my eyes to the fact that data can make or break an algorithm, and SVM performed better than our Naive Bayes\n",
    "5.   Deploying the model on live website was a challenge on its own. 1GB dataset was way beyond the limitations of free hosting websites.\n",
    "\n"
   ]
  },
  {
   "cell_type": "markdown",
   "metadata": {
    "colab_type": "text",
    "id": "Pnb9aCmxmCmd"
   },
   "source": [
    "##Conclusion:\n",
    "\n",
    "Ensemble SVM, which contained had Linear SVMs from both balanced and imbalanced dataset, had the highest accuracy in our study. It manages the class imbalance, while maintaining somewhat satisfactory prediction ratings."
   ]
  },
  {
   "cell_type": "code",
   "execution_count": null,
   "metadata": {},
   "outputs": [],
   "source": [
    "pickle.dump(ensemble, open('model.pkl'),'wb')"
   ]
  },
  {
   "cell_type": "markdown",
   "metadata": {
    "colab_type": "text",
    "id": "HzE7GiBn99mn"
   },
   "source": [
    "## References\n",
    "\n",
    "https://stackoverflow.com/questions/50444346/fast-punctuation-removal-with-pandas\n",
    "\n",
    "https://stackoverflow.com/questions/9662346/python-code-to-remove-html-tags-from-a-string\n",
    "\n",
    "https://stackoverflow.com/questions/37335598/how-to-get-the-length-of-a-cell-value-in-pandas-dataframe\n",
    "\n",
    "https://hackersandslackers.com/pandas-dataframe-drop/\n",
    "\n",
    "https://stackoverflow.com/questions/40650065/removing-http-and-www-from-url-python/40650141\n",
    "\n",
    "http://regexlib.com/Search.aspx?k=number&c=-1&m=5&ps=20\n",
    "\n",
    "https://www.johndcook.com/blog/2019/01/09/projecting-unicode-to-ascii/\n",
    "\n",
    "https://www.machinelearningplus.com/nlp/lemmatization-examples-python/\n",
    "\n",
    "https://stackoverflow.com/questions/41290028/removing-non-english-words-from-text-using-python\n",
    "\n",
    "https://stackabuse.com/removing-stop-words-from-strings-in-python/\n",
    "\n",
    "https://elitedatascience.com/imbalanced-classes\n",
    "\n",
    "https://thispointer.com/python-pandas-how-to-drop-rows-in-dataframe-by-conditions-on-column-values/\n",
    "\n",
    "https://pandas.pydata.org/pandas-docs/stable/reference/api/pandas.DataFrame.sample.html\n",
    "\n",
    "https://stackoverflow.com/questions/29314033/drop-rows-containing-empty-cells-from-a-pandas-dataframe\n",
    "\n",
    "https://stackoverflow.com/questions/59224687/how-to-remove-whole-string-if-it-consists-of-non-english-words-in-python\n",
    "\n",
    "https://stackoverflow.com/questions/38913965/make-the-size-of-a-heatmap-bigger-with-seaborn\n",
    "\n",
    "https://medium.com/@dtuk81/confusion-matrix-visualization-fc31e3f30fea\n",
    "\n",
    "http://www.davidsbatista.net/blog/2018/02/28/TfidfVectorizer/\n",
    "\n",
    "https://medium.com/@bedigunjit/simple-guide-to-text-classification-nlp-using-svm-and-naive-bayes-with-python-421db3a72d34\n",
    "\n",
    "https://medium.com/datadriveninvestor/an-introduction-to-grid-search-ff57adcc0998\n",
    "\n",
    "https://www.analyticsvidhya.com/blog/2017/09/naive-bayes-explained/\n",
    "\n",
    "https://www.analyticsvidhya.com/blog/2017/09/understaing-support-vector-machine-example-code/\n"
   ]
  }
 ],
 "metadata": {
  "colab": {
   "name": "Data mining Term Project.ipynb",
   "provenance": []
  },
  "kernelspec": {
   "display_name": "Python 3",
   "language": "python",
   "name": "python3"
  },
  "language_info": {
   "codemirror_mode": {
    "name": "ipython",
    "version": 3
   },
   "file_extension": ".py",
   "mimetype": "text/x-python",
   "name": "python",
   "nbconvert_exporter": "python",
   "pygments_lexer": "ipython3",
   "version": "3.8.2"
  }
 },
 "nbformat": 4,
 "nbformat_minor": 1
}
